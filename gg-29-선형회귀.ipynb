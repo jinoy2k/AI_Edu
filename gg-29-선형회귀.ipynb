{
  "nbformat": 4,
  "nbformat_minor": 0,
  "metadata": {
    "colab": {
      "name": "gg-29-선형회귀.ipynb",
      "version": "0.3.2",
      "provenance": []
    },
    "kernelspec": {
      "display_name": "Python 3",
      "language": "python",
      "name": "python3"
    }
  },
  "cells": [
    {
      "metadata": {
        "id": "tTOkPxn6BP-q",
        "colab_type": "text"
      },
      "cell_type": "markdown",
      "source": [
        "선형회귀\n",
        "==\n",
        "다루는 내용\n",
        "--\n",
        "- 머신러닝 개념\n",
        "- 경사하강법"
      ]
    },
    {
      "metadata": {
        "id": "cEaLBqnuBP-u",
        "colab_type": "code",
        "colab": {
          "base_uri": "https://localhost:8080/",
          "height": 282
        },
        "outputId": "f843bb1f-205d-40f6-935b-4e3d34c24da2"
      },
      "cell_type": "code",
      "source": [
        "import numpy as np\n",
        "import pandas as pd\n",
        "import matplotlib.pyplot as plt\n",
        "%matplotlib inline\n",
        "\n",
        "n_samples = 200\n",
        "x = np.random.randn(n_samples)\n",
        "\n",
        "# 계수 및 절편\n",
        "w = 2\n",
        "b = 3\n",
        "# 노이지 \n",
        "y = w*x + b\n",
        "#y = w*x + b + np.random.randn(n_samples)\n",
        "plt.scatter(x,y, s=10)"
      ],
      "execution_count": 17,
      "outputs": [
        {
          "output_type": "execute_result",
          "data": {
            "text/plain": [
              "<matplotlib.collections.PathCollection at 0x7f2775cbb7b8>"
            ]
          },
          "metadata": {
            "tags": []
          },
          "execution_count": 17
        },
        {
          "output_type": "display_data",
          "data": {
            "image/png": "[encoded data removed]",
            "text/plain": [
              "<Figure size 432x288 with 1 Axes>"
            ]
          },
          "metadata": {
            "tags": []
          }
        }
      ]
    },
    {
      "metadata": {
        "id": "2ze7oL3LBP-4",
        "colab_type": "code",
        "colab": {
          "base_uri": "https://localhost:8080/",
          "height": 52
        },
        "outputId": "38989472-f4fd-4893-bcbc-8bb490d2f926"
      },
      "cell_type": "code",
      "source": [
        "np.corrcoef(x,y)"
      ],
      "execution_count": 18,
      "outputs": [
        {
          "output_type": "execute_result",
          "data": {
            "text/plain": [
              "array([[1., 1.],\n",
              "       [1., 1.]])"
            ]
          },
          "metadata": {
            "tags": []
          },
          "execution_count": 18
        }
      ]
    },
    {
      "metadata": {
        "id": "9oAkLrSCBP--",
        "colab_type": "code",
        "colab": {
          "base_uri": "https://localhost:8080/",
          "height": 52
        },
        "outputId": "d91c4a78-982e-41eb-c490-086a20f7a796"
      },
      "cell_type": "code",
      "source": [
        "from sklearn.linear_model import LinearRegression\n",
        "leg = LinearRegression()# (1)\n",
        "leg.fit(x.reshape(-1,1), y)# (2)\n",
        "\n",
        "print(leg.coef_)\n",
        "print(leg.intercept_)"
      ],
      "execution_count": 19,
      "outputs": [
        {
          "output_type": "stream",
          "text": [
            "[2.]\n",
            "3.0\n"
          ],
          "name": "stdout"
        }
      ]
    },
    {
      "metadata": {
        "id": "S7F7dIa5BP_E",
        "colab_type": "text"
      },
      "cell_type": "markdown",
      "source": [
        "변수가 2개인 경우\n",
        "--"
      ]
    },
    {
      "metadata": {
        "id": "iFyakE8qcmk2",
        "colab_type": "code",
        "colab": {
          "base_uri": "https://localhost:8080/",
          "height": 52
        },
        "outputId": "97454964-33c9-4b5f-da52-ba2e67ca3da6"
      },
      "cell_type": "code",
      "source": [
        "n_samples = 200\n",
        "x1 = np.random.randn(n_samples)\n",
        "x2 = np.random.randn(n_samples)\n",
        "y = 2000 * x1 + 3 * x2 + 4 + 3*np.random.randn(n_samples)\n",
        "leg = LinearRegression()\n",
        "X = pd.DataFrame({'x1':x1, 'x2':x2})\n",
        "leg.fit(X, y)\n",
        "\n",
        "print(leg.coef_)\n",
        "print(leg.intercept_)"
      ],
      "execution_count": 28,
      "outputs": [
        {
          "output_type": "stream",
          "text": [
            "[1999.85554712    3.02957506]\n",
            "4.33260976702195\n"
          ],
          "name": "stdout"
        }
      ]
    },
    {
      "metadata": {
        "id": "s2hjAYIWeA5H",
        "colab_type": "code",
        "colab": {
          "base_uri": "https://localhost:8080/",
          "height": 52
        },
        "outputId": "b480d9db-52ee-4bf2-cad1-19855bc50e15"
      },
      "cell_type": "code",
      "source": [
        "np.corrcoef(x,y)"
      ],
      "execution_count": 29,
      "outputs": [
        {
          "output_type": "execute_result",
          "data": {
            "text/plain": [
              "array([[ 1.        , -0.07664043],\n",
              "       [-0.07664043,  1.        ]])"
            ]
          },
          "metadata": {
            "tags": []
          },
          "execution_count": 29
        }
      ]
    },
    {
      "metadata": {
        "id": "EOFp8T37dl1U",
        "colab_type": "code",
        "colab": {
          "base_uri": "https://localhost:8080/",
          "height": 34
        },
        "outputId": "73ebd6b3-0000-413d-944f-fa38e68642eb"
      },
      "cell_type": "code",
      "source": [
        "leg.score(X,y)"
      ],
      "execution_count": 30,
      "outputs": [
        {
          "output_type": "execute_result",
          "data": {
            "text/plain": [
              "0.9999977061400455"
            ]
          },
          "metadata": {
            "tags": []
          },
          "execution_count": 30
        }
      ]
    },
    {
      "metadata": {
        "id": "_fH3WKSScmYo",
        "colab_type": "code",
        "colab": {
          "base_uri": "https://localhost:8080/",
          "height": 193
        },
        "outputId": "4f521fb4-f926-497f-fc38-876aaef4351b"
      },
      "cell_type": "code",
      "source": [
        "num_epoch = 10\n",
        "lr = 1.0\n",
        "\n",
        "w1 = np.random.uniform()\n",
        "w2 = np.random.uniform()\n",
        "b = np.random.uniform()\n",
        "\n",
        "for epoch in range(num_epoch):\n",
        "    y_pred = w1*x1 + w2*x2 + b # 10번을 돌며 예측치를 만들어냄.\n",
        "    error = np.abs(y_pred - y).mean()# mean 이 에러이다.\n",
        "    print(f\"{epoch:2} w1 = {w1:.6f},  w2 = {w2:.6f}, b = {b:.6f} , error = {error:.6f}\")\n",
        "\n",
        "    w1 = w1 - lr*((y_pred - y)* x1).mean()\n",
        "    w2 = w2 - lr*((y_pred - y)* x2).mean()\n",
        "    b = b - lr*((y_pred - y)).mean()"
      ],
      "execution_count": 27,
      "outputs": [
        {
          "output_type": "stream",
          "text": [
            " 0 w1 = 0.251905,  w2 = 0.121139, b = 0.483520 , error = 1613.149264\n",
            " 1 w1 = 2082.923853,  w2 = 214.200339, b = 87.682499 , error = 200.879555\n",
            " 2 w1 = 1971.140304,  w2 = -10.531262, b = 16.198707 , error = 29.627802\n",
            " 3 w1 = 2002.490288,  w2 = 7.460059, b = 4.346375 , error = 5.202641\n",
            " 4 w1 = 1999.797129,  w2 = 2.357563, b = 4.356953 , error = 2.497446\n",
            " 5 w1 = 2000.446869,  w2 = 2.902651, b = 4.094346 , error = 2.448418\n",
            " 6 w1 = 2000.373550,  w2 = 2.786894, b = 4.107235 , error = 2.439860\n",
            " 7 w1 = 2000.388262,  w2 = 2.801483, b = 4.101789 , error = 2.440811\n",
            " 8 w1 = 2000.386343,  w2 = 2.798785, b = 4.102247 , error = 2.440691\n",
            " 9 w1 = 2000.386688,  w2 = 2.799158, b = 4.102128 , error = 2.440714\n"
          ],
          "name": "stdout"
        }
      ]
    },
    {
      "metadata": {
        "id": "fAKmwQTlBP_F",
        "colab_type": "code",
        "colab": {
          "base_uri": "https://localhost:8080/",
          "height": 52
        },
        "outputId": "010e3595-a064-426d-bd86-dd9f6e19ad8f"
      },
      "cell_type": "code",
      "source": [
        "n_samples = 200\n",
        "x1 = np.random.randn(n_samples)\n",
        "x2 = np.random.randn(n_samples)\n",
        "\n",
        "#y = 2 * x1 + 3 * x2 + 4 + np.random.randn(n_samples)\n",
        "y = 2 * x1 + 3 * x2 + 4\n",
        "\n",
        "leg = LinearRegression()\n",
        "X = pd.DataFrame({'x1':x1, 'x2':x2})\n",
        "leg.fit(X, y)\n",
        "\n",
        "print(leg.coef_)\n",
        "print(leg.intercept_)"
      ],
      "execution_count": 4,
      "outputs": [
        {
          "output_type": "stream",
          "text": [
            "[2. 3.]\n",
            "4.0\n"
          ],
          "name": "stdout"
        }
      ]
    },
    {
      "metadata": {
        "id": "0UqpZ1NHBP_L",
        "colab_type": "code",
        "colab": {
          "base_uri": "https://localhost:8080/",
          "height": 34
        },
        "outputId": "eecd0d9d-aaad-4cea-a960-f44167171ee6"
      },
      "cell_type": "code",
      "source": [
        "leg.score(X,y)"
      ],
      "execution_count": 5,
      "outputs": [
        {
          "output_type": "execute_result",
          "data": {
            "text/plain": [
              "1.0"
            ]
          },
          "metadata": {
            "tags": []
          },
          "execution_count": 5
        }
      ]
    },
    {
      "metadata": {
        "id": "ap8sTkRECONq",
        "colab_type": "code",
        "colab": {
          "base_uri": "https://localhost:8080/",
          "height": 282
        },
        "outputId": "dcfb03c3-3b8c-49e7-86bc-1091b7fe8b86"
      },
      "cell_type": "code",
      "source": [
        "n_samples = 200\n",
        "x = np.random.randn(n_samples)\n",
        "\n",
        "# 계수 및 절편\n",
        "w = 2\n",
        "b = 3\n",
        "# 노이지 \n",
        "#y = w*x + b\n",
        "y = w*x + b + np.random.randn(n_samples)\n",
        "plt.scatter(x,y, s=10)"
      ],
      "execution_count": 7,
      "outputs": [
        {
          "output_type": "execute_result",
          "data": {
            "text/plain": [
              "<matplotlib.collections.PathCollection at 0x7f2775d53ba8>"
            ]
          },
          "metadata": {
            "tags": []
          },
          "execution_count": 7
        },
        {
          "output_type": "display_data",
          "data": {
            "image/png": "[encoded data removed]",
            "text/plain": [
              "<Figure size 432x288 with 1 Axes>"
            ]
          },
          "metadata": {
            "tags": []
          }
        }
      ]
    },
    {
      "metadata": {
        "id": "kkzA_zZKCOCs",
        "colab_type": "code",
        "colab": {
          "base_uri": "https://localhost:8080/",
          "height": 52
        },
        "outputId": "25cbc2a8-92d3-4a57-eca2-9d8d49f06fdb"
      },
      "cell_type": "code",
      "source": [
        "n_samples = 200\n",
        "x1 = np.random.randn(n_samples)\n",
        "x2 = np.random.randn(n_samples)\n",
        "\n",
        "y = 2 * x1 + 3 * x2 + 4 + np.random.randn(n_samples)\n",
        "#y = 2 * x1 + 3 * x2 + 4\n",
        "\n",
        "leg = LinearRegression()\n",
        "X = pd.DataFrame({'x1':x1, 'x2':x2})\n",
        "leg.fit(X, y)\n",
        "\n",
        "print(leg.coef_)\n",
        "print(leg.intercept_)"
      ],
      "execution_count": 8,
      "outputs": [
        {
          "output_type": "stream",
          "text": [
            "[2.02460591 2.96148387]\n",
            "3.9909330863110646\n"
          ],
          "name": "stdout"
        }
      ]
    },
    {
      "metadata": {
        "id": "zgCPFcphBP_R",
        "colab_type": "text"
      },
      "cell_type": "markdown",
      "source": [
        "경사하강법\n",
        "--"
      ]
    },
    {
      "metadata": {
        "scrolled": false,
        "id": "0clyJF38BP_S",
        "colab_type": "code",
        "colab": {
          "base_uri": "https://localhost:8080/",
          "height": 193
        },
        "outputId": "a26d91ac-983a-4244-9851-b686ca0085fc"
      },
      "cell_type": "code",
      "source": [
        "num_epoch = 10\n",
        "lr = 0.7\n",
        "\n",
        "w1 = np.random.uniform()\n",
        "w2 = np.random.uniform()\n",
        "b = np.random.uniform()\n",
        "\n",
        "for epoch in range(num_epoch):\n",
        "    y_pred = w1*x1 + w2*x2 + b # 10번을 돌며 예측치를 만들어냄.\n",
        "    error = np.abs(y_pred - y).mean()# mean 이 에러이다.\n",
        "    print(f\"{epoch:2} w1 = {w1:.6f},  w2 = {w2:.6f}, b = {b:.6f} , error = {error:.6f}\")\n",
        "\n",
        "    w1 = w1 - lr*((y_pred - y)* x1).mean()\n",
        "    w2 = w2 - lr*((y_pred - y)* x2).mean()\n",
        "    b = b - lr*((y_pred - y)).mean()"
      ],
      "execution_count": 15,
      "outputs": [
        {
          "output_type": "stream",
          "text": [
            " 0 w1 = 0.536721,  w2 = 0.085861, b = 0.865330 , error = 3.855900\n",
            " 1 w1 = 1.232357,  w2 = 2.194088, b = 3.106572 , error = 1.402531\n",
            " 2 w1 = 1.687287,  w2 = 2.727808, b = 3.727050 , error = 0.868657\n",
            " 3 w1 = 1.891855,  w2 = 2.882683, b = 3.909089 , error = 0.773607\n",
            " 4 w1 = 1.974096,  w2 = 2.933184, b = 3.964861 , error = 0.759609\n",
            " 5 w1 = 2.005683,  w2 = 2.950983, b = 3.982474 , error = 0.757638\n",
            " 6 w1 = 2.017567,  w2 = 2.957531, b = 3.988153 , error = 0.757306\n",
            " 7 w1 = 2.021996,  w2 = 2.959988, b = 3.990011 , error = 0.757248\n",
            " 8 w1 = 2.023639,  w2 = 2.960917, b = 3.990625 , error = 0.757246\n",
            " 9 w1 = 2.024248,  w2 = 2.961270, b = 3.990829 , error = 0.757249\n"
          ],
          "name": "stdout"
        }
      ]
    },
    {
      "metadata": {
        "id": "vyxTOyvzBP_Y",
        "colab_type": "code",
        "colab": {
          "base_uri": "https://localhost:8080/",
          "height": 34
        },
        "outputId": "a8f97cb6-e4f0-4b18-cfc8-2468cfad8794"
      },
      "cell_type": "code",
      "source": [
        "leg.score(X,y)"
      ],
      "execution_count": 16,
      "outputs": [
        {
          "output_type": "execute_result",
          "data": {
            "text/plain": [
              "0.9244282518974721"
            ]
          },
          "metadata": {
            "tags": []
          },
          "execution_count": 16
        }
      ]
    },
    {
      "metadata": {
        "id": "41DTOvkbBP_e",
        "colab_type": "code",
        "colab": {}
      },
      "cell_type": "code",
      "source": [
        ""
      ],
      "execution_count": 0,
      "outputs": []
    },
    {
      "metadata": {
        "id": "vmotrlJeBP_i",
        "colab_type": "code",
        "colab": {}
      },
      "cell_type": "code",
      "source": [
        ""
      ],
      "execution_count": 0,
      "outputs": []
    }
  ]
}