{
  "nbformat": 4,
  "nbformat_minor": 0,
  "metadata": {
    "colab": {
      "name": "gg-17-데이터탐색.ipynb",
      "version": "0.3.2",
      "provenance": []
    },
    "kernelspec": {
      "display_name": "Python 3",
      "language": "python",
      "name": "python3"
    }
  },
  "cells": [
    {
      "metadata": {
        "id": "EYaoPTcNuy6w",
        "colab_type": "text"
      },
      "cell_type": "markdown",
      "source": [
        "데이터 탐색\n",
        "==\n",
        "\n",
        "다루는 내용\n",
        "--\n",
        "- 데이터 특성 보기, 데이터 탐색, 시각화\n",
        "- 클러스터링\n",
        "\n",
        "데이터\n",
        "--\n",
        "- 전력판매량(시도별/용도별) 액셀 파일 https://goo.gl/Cx8Rzw\n",
        "- 위 자료는 전력거래소에서 받은 자료임\n",
        "- 이 파일을 현재 작업중인 (쥬피터 노트북이 실행되는) 폴더 아래에 data 폴더를 만들고 data 폴더로 복사한다"
      ]
    },
    {
      "metadata": {
        "id": "DxF4jVTtuy60",
        "colab_type": "text"
      },
      "cell_type": "markdown",
      "source": [
        "필요한 라이브러리(모듈) 설치\n",
        "--"
      ]
    },
    {
      "metadata": {
        "id": "LuAxoQ_4uy62",
        "colab_type": "code",
        "colab": {}
      },
      "cell_type": "code",
      "source": [
        "import pandas as pd\n",
        "import numpy as np\n",
        "import matplotlib.pyplot as plt"
      ],
      "execution_count": 0,
      "outputs": []
    },
    {
      "metadata": {
        "id": "ZmY3C_oEuy68",
        "colab_type": "code",
        "colab": {}
      },
      "cell_type": "code",
      "source": [
        "%matplotlib inline"
      ],
      "execution_count": 0,
      "outputs": []
    },
    {
      "metadata": {
        "id": "xojoqnGluy7C",
        "colab_type": "text"
      },
      "cell_type": "markdown",
      "source": [
        "데이터 읽기\n",
        "--"
      ]
    },
    {
      "metadata": {
        "id": "Z1wTbG8MwDpA",
        "colab_type": "code",
        "outputId": "de65af1c-1ef1-4d0a-e874-ce5c99700715",
        "colab": {
          "base_uri": "https://localhost:8080/",
          "height": 35
        }
      },
      "cell_type": "code",
      "source": [
        "!ls"
      ],
      "execution_count": 4,
      "outputs": [
        {
          "output_type": "stream",
          "text": [
            "sample_data\n"
          ],
          "name": "stdout"
        }
      ]
    },
    {
      "metadata": {
        "id": "8wgcqdocwI5s",
        "colab_type": "code",
        "colab": {}
      },
      "cell_type": "code",
      "source": [
        "!mkdir data"
      ],
      "execution_count": 0,
      "outputs": []
    },
    {
      "metadata": {
        "id": "UqIHr2Ybuy7D",
        "colab_type": "code",
        "outputId": "849a5030-9d8d-433a-e436-7095f94a3ae1",
        "colab": {
          "base_uri": "https://localhost:8080/",
          "height": 577
        }
      },
      "cell_type": "code",
      "source": [
        "#power_data = pd.read_excel('data/시도별_용도별.xls')\n",
        "!wget https://goo.gl/Cx8Rzw -O ./data/power.xls\n",
        "power_data = pd.read_excel('./data/power.xls')\n",
        "print(power_data.shape)"
      ],
      "execution_count": 6,
      "outputs": [
        {
          "output_type": "stream",
          "text": [
            "--2019-03-06 06:58:58--  https://goo.gl/Cx8Rzw\n",
            "Resolving goo.gl (goo.gl)... 74.125.142.113, 74.125.142.100, 74.125.142.138, ...\n",
            "Connecting to goo.gl (goo.gl)|74.125.142.113|:443... connected.\n",
            "HTTP request sent, awaiting response... 302 Found\n",
            "Location: https://www.dropbox.com/s/w9m6n2zbl2986of/%EC%8B%9C%EB%8F%84%EB%B3%84_%EC%9A%A9%EB%8F%84%EB%B3%84.xls?dl=0 [following]\n",
            "--2019-03-06 06:59:03--  https://www.dropbox.com/s/w9m6n2zbl2986of/%EC%8B%9C%EB%8F%84%EB%B3%84_%EC%9A%A9%EB%8F%84%EB%B3%84.xls?dl=0\n",
            "Resolving www.dropbox.com (www.dropbox.com)... 162.125.1.1, 2620:100:6016:1::a27d:101\n",
            "Connecting to www.dropbox.com (www.dropbox.com)|162.125.1.1|:443... connected.\n",
            "HTTP request sent, awaiting response... 301 Moved Permanently\n",
            "Location: /s/raw/w9m6n2zbl2986of/%EC%8B%9C%EB%8F%84%EB%B3%84_%EC%9A%A9%EB%8F%84%EB%B3%84.xls [following]\n",
            "--2019-03-06 06:59:03--  https://www.dropbox.com/s/raw/w9m6n2zbl2986of/%EC%8B%9C%EB%8F%84%EB%B3%84_%EC%9A%A9%EB%8F%84%EB%B3%84.xls\n",
            "Reusing existing connection to www.dropbox.com:443.\n",
            "HTTP request sent, awaiting response... 302 Found\n",
            "Location: https://uc50071503ebe5214a899e346db9.dl.dropboxusercontent.com/cd/0/inline/AciNeo7aXkGfW6HDW6OrMADuwZBJseAPW4HLBJ970TaXsh5dYBu6NIJdDgOCFERH-pB-i0yaKM2XTk_8hJRKnUne3FkgIh64eiLZ5tXjWC6LaywRgYf3jqy3Il67vnDOZFc/file# [following]\n",
            "--2019-03-06 06:59:03--  https://uc50071503ebe5214a899e346db9.dl.dropboxusercontent.com/cd/0/inline/AciNeo7aXkGfW6HDW6OrMADuwZBJseAPW4HLBJ970TaXsh5dYBu6NIJdDgOCFERH-pB-i0yaKM2XTk_8hJRKnUne3FkgIh64eiLZ5tXjWC6LaywRgYf3jqy3Il67vnDOZFc/file\n",
            "Resolving uc50071503ebe5214a899e346db9.dl.dropboxusercontent.com (uc50071503ebe5214a899e346db9.dl.dropboxusercontent.com)... 162.125.1.6, 2620:100:6016:6::a27d:106\n",
            "Connecting to uc50071503ebe5214a899e346db9.dl.dropboxusercontent.com (uc50071503ebe5214a899e346db9.dl.dropboxusercontent.com)|162.125.1.6|:443... connected.\n",
            "HTTP request sent, awaiting response... 302 FOUND\n",
            "Location: /cd/0/inline2/Ach-SH20cXhAzhEP1tfUCv_YDbTVED7WRVHICs0Y0LVfRc1Ade6OEQZ3NsDa2rGigmCrTPuDYV-QrgoB3JfrdcWnt4_IztXnk8Fo5od2RGEYf2CFool3PXa8o45F6mO3-EabiN04mUU33eEY0Z_UXG55pBdsc7O6Fgi7Ci7OBbm7_bTTnWetRfW_BWrHuzEVTIxzrtrTA7UX9Cr03ByjTp4tisqDOo4KrtLdwo3BBCmeuDK6SaGMghSeYMXSc74mgs74_Jgu1bClCAMXFT9mVhJHVy0CPkIbyUZ5A6JBqzUrwz5cEcU-AETXMLCULq5teCu1X0qI_mrkUz2PFHTfyKqH0NtMJRKP28aOVyAO4VufFg/file [following]\n",
            "--2019-03-06 06:59:03--  https://uc50071503ebe5214a899e346db9.dl.dropboxusercontent.com/cd/0/inline2/Ach-SH20cXhAzhEP1tfUCv_YDbTVED7WRVHICs0Y0LVfRc1Ade6OEQZ3NsDa2rGigmCrTPuDYV-QrgoB3JfrdcWnt4_IztXnk8Fo5od2RGEYf2CFool3PXa8o45F6mO3-EabiN04mUU33eEY0Z_UXG55pBdsc7O6Fgi7Ci7OBbm7_bTTnWetRfW_BWrHuzEVTIxzrtrTA7UX9Cr03ByjTp4tisqDOo4KrtLdwo3BBCmeuDK6SaGMghSeYMXSc74mgs74_Jgu1bClCAMXFT9mVhJHVy0CPkIbyUZ5A6JBqzUrwz5cEcU-AETXMLCULq5teCu1X0qI_mrkUz2PFHTfyKqH0NtMJRKP28aOVyAO4VufFg/file\n",
            "Reusing existing connection to uc50071503ebe5214a899e346db9.dl.dropboxusercontent.com:443.\n",
            "HTTP request sent, awaiting response... 200 OK\n",
            "Length: 17920 (18K) [application/vnd.ms-excel]\n",
            "Saving to: ‘./data/power.xls’\n",
            "\n",
            "./data/power.xls    100%[===================>]  17.50K  --.-KB/s    in 0s      \n",
            "\n",
            "2019-03-06 06:59:03 (46.5 MB/s) - ‘./data/power.xls’ saved [17920/17920]\n",
            "\n",
            "(19, 28)\n"
          ],
          "name": "stdout"
        }
      ]
    },
    {
      "metadata": {
        "id": "Ij0wXD86uy7P",
        "colab_type": "code",
        "outputId": "73dc4d0c-2c46-4d23-9e62-0f555847f5da",
        "colab": {
          "base_uri": "https://localhost:8080/",
          "height": 667
        }
      },
      "cell_type": "code",
      "source": [
        "power_data"
      ],
      "execution_count": 7,
      "outputs": [
        {
          "output_type": "execute_result",
          "data": {
            "text/html": [
              "<div>\n",
              "<style scoped>\n",
              "    .dataframe tbody tr th:only-of-type {\n",
              "        vertical-align: middle;\n",
              "    }\n",
              "\n",
              "    .dataframe tbody tr th {\n",
              "        vertical-align: top;\n",
              "    }\n",
              "\n",
              "    .dataframe thead th {\n",
              "        text-align: right;\n",
              "    }\n",
              "</style>\n",
              "<table border=\"1\" class=\"dataframe\">\n",
              "  <thead>\n",
              "    <tr style=\"text-align: right;\">\n",
              "      <th></th>\n",
              "      <th>구분</th>\n",
              "      <th>주거용</th>\n",
              "      <th>공공용</th>\n",
              "      <th>서비스업</th>\n",
              "      <th>업무용합계</th>\n",
              "      <th>농림어업</th>\n",
              "      <th>광업</th>\n",
              "      <th>제조업</th>\n",
              "      <th>식료품제조</th>\n",
              "      <th>섬유,의류</th>\n",
              "      <th>...</th>\n",
              "      <th>기타기계</th>\n",
              "      <th>사무기기</th>\n",
              "      <th>전기기기</th>\n",
              "      <th>영상,음향</th>\n",
              "      <th>자동차</th>\n",
              "      <th>기타운송</th>\n",
              "      <th>가구및기타</th>\n",
              "      <th>재생재료</th>\n",
              "      <th>산업용합계</th>\n",
              "      <th>합계</th>\n",
              "    </tr>\n",
              "  </thead>\n",
              "  <tbody>\n",
              "    <tr>\n",
              "      <th>0</th>\n",
              "      <td>강원</td>\n",
              "      <td>1940933</td>\n",
              "      <td>1400421</td>\n",
              "      <td>6203749</td>\n",
              "      <td>7604170</td>\n",
              "      <td>607139</td>\n",
              "      <td>398287</td>\n",
              "      <td>6002286</td>\n",
              "      <td>546621</td>\n",
              "      <td>13027</td>\n",
              "      <td>...</td>\n",
              "      <td>35063</td>\n",
              "      <td>2019</td>\n",
              "      <td>38062</td>\n",
              "      <td>43986</td>\n",
              "      <td>113448</td>\n",
              "      <td>108629</td>\n",
              "      <td>12872</td>\n",
              "      <td>3418</td>\n",
              "      <td>7007712</td>\n",
              "      <td>16552816</td>\n",
              "    </tr>\n",
              "    <tr>\n",
              "      <th>1</th>\n",
              "      <td>개성</td>\n",
              "      <td>0</td>\n",
              "      <td>0</td>\n",
              "      <td>0</td>\n",
              "      <td>0</td>\n",
              "      <td>0</td>\n",
              "      <td>0</td>\n",
              "      <td>0</td>\n",
              "      <td>0</td>\n",
              "      <td>0</td>\n",
              "      <td>...</td>\n",
              "      <td>0</td>\n",
              "      <td>0</td>\n",
              "      <td>0</td>\n",
              "      <td>0</td>\n",
              "      <td>0</td>\n",
              "      <td>0</td>\n",
              "      <td>0</td>\n",
              "      <td>0</td>\n",
              "      <td>0</td>\n",
              "      <td>0</td>\n",
              "    </tr>\n",
              "    <tr>\n",
              "      <th>2</th>\n",
              "      <td>경기</td>\n",
              "      <td>16587710</td>\n",
              "      <td>5533662</td>\n",
              "      <td>33434551</td>\n",
              "      <td>38968213</td>\n",
              "      <td>2371347</td>\n",
              "      <td>317263</td>\n",
              "      <td>56603327</td>\n",
              "      <td>2544420</td>\n",
              "      <td>2109963</td>\n",
              "      <td>...</td>\n",
              "      <td>3613798</td>\n",
              "      <td>317244</td>\n",
              "      <td>1040171</td>\n",
              "      <td>24519644</td>\n",
              "      <td>2977165</td>\n",
              "      <td>67594</td>\n",
              "      <td>1833112</td>\n",
              "      <td>133041</td>\n",
              "      <td>59291937</td>\n",
              "      <td>114847859</td>\n",
              "    </tr>\n",
              "    <tr>\n",
              "      <th>3</th>\n",
              "      <td>경남</td>\n",
              "      <td>4260988</td>\n",
              "      <td>1427560</td>\n",
              "      <td>8667737</td>\n",
              "      <td>10095297</td>\n",
              "      <td>2141813</td>\n",
              "      <td>95989</td>\n",
              "      <td>18053778</td>\n",
              "      <td>932743</td>\n",
              "      <td>346974</td>\n",
              "      <td>...</td>\n",
              "      <td>1902913</td>\n",
              "      <td>8070</td>\n",
              "      <td>924235</td>\n",
              "      <td>534196</td>\n",
              "      <td>2156059</td>\n",
              "      <td>2048646</td>\n",
              "      <td>262523</td>\n",
              "      <td>47662</td>\n",
              "      <td>20291580</td>\n",
              "      <td>34647864</td>\n",
              "    </tr>\n",
              "    <tr>\n",
              "      <th>4</th>\n",
              "      <td>경북</td>\n",
              "      <td>3302463</td>\n",
              "      <td>1578115</td>\n",
              "      <td>8487402</td>\n",
              "      <td>10065517</td>\n",
              "      <td>1747462</td>\n",
              "      <td>224568</td>\n",
              "      <td>30115601</td>\n",
              "      <td>566071</td>\n",
              "      <td>3780171</td>\n",
              "      <td>...</td>\n",
              "      <td>782570</td>\n",
              "      <td>14468</td>\n",
              "      <td>750786</td>\n",
              "      <td>4174971</td>\n",
              "      <td>2356890</td>\n",
              "      <td>123935</td>\n",
              "      <td>60280</td>\n",
              "      <td>77104</td>\n",
              "      <td>32087631</td>\n",
              "      <td>45455611</td>\n",
              "    </tr>\n",
              "    <tr>\n",
              "      <th>5</th>\n",
              "      <td>광주</td>\n",
              "      <td>1954876</td>\n",
              "      <td>565527</td>\n",
              "      <td>3174973</td>\n",
              "      <td>3740500</td>\n",
              "      <td>74608</td>\n",
              "      <td>2898</td>\n",
              "      <td>2910768</td>\n",
              "      <td>161072</td>\n",
              "      <td>295922</td>\n",
              "      <td>...</td>\n",
              "      <td>198847</td>\n",
              "      <td>5967</td>\n",
              "      <td>236622</td>\n",
              "      <td>723764</td>\n",
              "      <td>512148</td>\n",
              "      <td>5140</td>\n",
              "      <td>13392</td>\n",
              "      <td>16049</td>\n",
              "      <td>2988274</td>\n",
              "      <td>8683649</td>\n",
              "    </tr>\n",
              "    <tr>\n",
              "      <th>6</th>\n",
              "      <td>대구</td>\n",
              "      <td>3151904</td>\n",
              "      <td>826396</td>\n",
              "      <td>5470438</td>\n",
              "      <td>6296834</td>\n",
              "      <td>69142</td>\n",
              "      <td>5858</td>\n",
              "      <td>5862633</td>\n",
              "      <td>212626</td>\n",
              "      <td>1057342</td>\n",
              "      <td>...</td>\n",
              "      <td>516493</td>\n",
              "      <td>58446</td>\n",
              "      <td>180189</td>\n",
              "      <td>252662</td>\n",
              "      <td>1381273</td>\n",
              "      <td>68127</td>\n",
              "      <td>41814</td>\n",
              "      <td>33616</td>\n",
              "      <td>5937633</td>\n",
              "      <td>15386372</td>\n",
              "    </tr>\n",
              "    <tr>\n",
              "      <th>7</th>\n",
              "      <td>대전</td>\n",
              "      <td>1872890</td>\n",
              "      <td>954681</td>\n",
              "      <td>3955921</td>\n",
              "      <td>4910602</td>\n",
              "      <td>28643</td>\n",
              "      <td>3326</td>\n",
              "      <td>2608343</td>\n",
              "      <td>204171</td>\n",
              "      <td>41687</td>\n",
              "      <td>...</td>\n",
              "      <td>77970</td>\n",
              "      <td>2949</td>\n",
              "      <td>83609</td>\n",
              "      <td>474561</td>\n",
              "      <td>218191</td>\n",
              "      <td>5439</td>\n",
              "      <td>31657</td>\n",
              "      <td>2252</td>\n",
              "      <td>2640312</td>\n",
              "      <td>9423804</td>\n",
              "    </tr>\n",
              "    <tr>\n",
              "      <th>8</th>\n",
              "      <td>부산</td>\n",
              "      <td>4473510</td>\n",
              "      <td>1305876</td>\n",
              "      <td>7582169</td>\n",
              "      <td>8888045</td>\n",
              "      <td>107927</td>\n",
              "      <td>25289</td>\n",
              "      <td>7512588</td>\n",
              "      <td>532943</td>\n",
              "      <td>528513</td>\n",
              "      <td>...</td>\n",
              "      <td>904149</td>\n",
              "      <td>4913</td>\n",
              "      <td>107717</td>\n",
              "      <td>90644</td>\n",
              "      <td>1046529</td>\n",
              "      <td>231141</td>\n",
              "      <td>49733</td>\n",
              "      <td>13104</td>\n",
              "      <td>7645804</td>\n",
              "      <td>21007358</td>\n",
              "    </tr>\n",
              "    <tr>\n",
              "      <th>9</th>\n",
              "      <td>서울</td>\n",
              "      <td>13131172</td>\n",
              "      <td>3581534</td>\n",
              "      <td>27647345</td>\n",
              "      <td>31228879</td>\n",
              "      <td>15150</td>\n",
              "      <td>4064</td>\n",
              "      <td>1918893</td>\n",
              "      <td>227077</td>\n",
              "      <td>497699</td>\n",
              "      <td>...</td>\n",
              "      <td>163688</td>\n",
              "      <td>4395</td>\n",
              "      <td>11425</td>\n",
              "      <td>46225</td>\n",
              "      <td>20182</td>\n",
              "      <td>17656</td>\n",
              "      <td>132707</td>\n",
              "      <td>2875</td>\n",
              "      <td>1938107</td>\n",
              "      <td>46298158</td>\n",
              "    </tr>\n",
              "    <tr>\n",
              "      <th>10</th>\n",
              "      <td>세종</td>\n",
              "      <td>384903</td>\n",
              "      <td>299675</td>\n",
              "      <td>645424</td>\n",
              "      <td>945099</td>\n",
              "      <td>69469</td>\n",
              "      <td>16364</td>\n",
              "      <td>1502922</td>\n",
              "      <td>110211</td>\n",
              "      <td>70617</td>\n",
              "      <td>...</td>\n",
              "      <td>26185</td>\n",
              "      <td>14319</td>\n",
              "      <td>33539</td>\n",
              "      <td>170366</td>\n",
              "      <td>79009</td>\n",
              "      <td>0</td>\n",
              "      <td>5132</td>\n",
              "      <td>2603</td>\n",
              "      <td>1588755</td>\n",
              "      <td>2918758</td>\n",
              "    </tr>\n",
              "    <tr>\n",
              "      <th>11</th>\n",
              "      <td>울산</td>\n",
              "      <td>1487143</td>\n",
              "      <td>489865</td>\n",
              "      <td>3649386</td>\n",
              "      <td>4139251</td>\n",
              "      <td>80221</td>\n",
              "      <td>20103</td>\n",
              "      <td>25883132</td>\n",
              "      <td>187738</td>\n",
              "      <td>943299</td>\n",
              "      <td>...</td>\n",
              "      <td>169132</td>\n",
              "      <td>5053</td>\n",
              "      <td>381602</td>\n",
              "      <td>24165</td>\n",
              "      <td>2367150</td>\n",
              "      <td>1020610</td>\n",
              "      <td>4984</td>\n",
              "      <td>1626</td>\n",
              "      <td>25983456</td>\n",
              "      <td>31609850</td>\n",
              "    </tr>\n",
              "    <tr>\n",
              "      <th>12</th>\n",
              "      <td>인천</td>\n",
              "      <td>3856852</td>\n",
              "      <td>921748</td>\n",
              "      <td>7154416</td>\n",
              "      <td>8076164</td>\n",
              "      <td>142953</td>\n",
              "      <td>71529</td>\n",
              "      <td>12367816</td>\n",
              "      <td>641088</td>\n",
              "      <td>75895</td>\n",
              "      <td>...</td>\n",
              "      <td>942801</td>\n",
              "      <td>7853</td>\n",
              "      <td>178502</td>\n",
              "      <td>1124564</td>\n",
              "      <td>612898</td>\n",
              "      <td>54225</td>\n",
              "      <td>360778</td>\n",
              "      <td>32538</td>\n",
              "      <td>12582298</td>\n",
              "      <td>24515313</td>\n",
              "    </tr>\n",
              "    <tr>\n",
              "      <th>13</th>\n",
              "      <td>전남</td>\n",
              "      <td>2284124</td>\n",
              "      <td>964024</td>\n",
              "      <td>5690659</td>\n",
              "      <td>6654683</td>\n",
              "      <td>3096126</td>\n",
              "      <td>73217</td>\n",
              "      <td>21453926</td>\n",
              "      <td>511361</td>\n",
              "      <td>160506</td>\n",
              "      <td>...</td>\n",
              "      <td>66431</td>\n",
              "      <td>1061</td>\n",
              "      <td>149939</td>\n",
              "      <td>42399</td>\n",
              "      <td>72132</td>\n",
              "      <td>481592</td>\n",
              "      <td>14670</td>\n",
              "      <td>31932</td>\n",
              "      <td>24623269</td>\n",
              "      <td>33562076</td>\n",
              "    </tr>\n",
              "    <tr>\n",
              "      <th>14</th>\n",
              "      <td>전북</td>\n",
              "      <td>2326183</td>\n",
              "      <td>1096968</td>\n",
              "      <td>4910318</td>\n",
              "      <td>6007286</td>\n",
              "      <td>1415004</td>\n",
              "      <td>85300</td>\n",
              "      <td>12965875</td>\n",
              "      <td>1459217</td>\n",
              "      <td>731651</td>\n",
              "      <td>...</td>\n",
              "      <td>159699</td>\n",
              "      <td>7240</td>\n",
              "      <td>130692</td>\n",
              "      <td>420005</td>\n",
              "      <td>859741</td>\n",
              "      <td>70980</td>\n",
              "      <td>16175</td>\n",
              "      <td>99003</td>\n",
              "      <td>14466179</td>\n",
              "      <td>22799647</td>\n",
              "    </tr>\n",
              "    <tr>\n",
              "      <th>15</th>\n",
              "      <td>제주</td>\n",
              "      <td>782601</td>\n",
              "      <td>301727</td>\n",
              "      <td>2308732</td>\n",
              "      <td>2610459</td>\n",
              "      <td>1364930</td>\n",
              "      <td>14019</td>\n",
              "      <td>241537</td>\n",
              "      <td>155987</td>\n",
              "      <td>3497</td>\n",
              "      <td>...</td>\n",
              "      <td>1167</td>\n",
              "      <td>0</td>\n",
              "      <td>771</td>\n",
              "      <td>0</td>\n",
              "      <td>773</td>\n",
              "      <td>532</td>\n",
              "      <td>1743</td>\n",
              "      <td>743</td>\n",
              "      <td>1620486</td>\n",
              "      <td>5013545</td>\n",
              "    </tr>\n",
              "    <tr>\n",
              "      <th>16</th>\n",
              "      <td>충남</td>\n",
              "      <td>2691823</td>\n",
              "      <td>1089613</td>\n",
              "      <td>7164439</td>\n",
              "      <td>8254052</td>\n",
              "      <td>1928066</td>\n",
              "      <td>248313</td>\n",
              "      <td>37057955</td>\n",
              "      <td>1137035</td>\n",
              "      <td>269998</td>\n",
              "      <td>...</td>\n",
              "      <td>611925</td>\n",
              "      <td>12208</td>\n",
              "      <td>428906</td>\n",
              "      <td>10953811</td>\n",
              "      <td>2526658</td>\n",
              "      <td>33766</td>\n",
              "      <td>53804</td>\n",
              "      <td>19725</td>\n",
              "      <td>39234334</td>\n",
              "      <td>50180209</td>\n",
              "    </tr>\n",
              "    <tr>\n",
              "      <th>17</th>\n",
              "      <td>충북</td>\n",
              "      <td>2027281</td>\n",
              "      <td>1267140</td>\n",
              "      <td>4804638</td>\n",
              "      <td>6071778</td>\n",
              "      <td>721131</td>\n",
              "      <td>139856</td>\n",
              "      <td>15883448</td>\n",
              "      <td>1152073</td>\n",
              "      <td>333846</td>\n",
              "      <td>...</td>\n",
              "      <td>366871</td>\n",
              "      <td>23076</td>\n",
              "      <td>1125141</td>\n",
              "      <td>4103832</td>\n",
              "      <td>603349</td>\n",
              "      <td>82496</td>\n",
              "      <td>513501</td>\n",
              "      <td>46038</td>\n",
              "      <td>16744435</td>\n",
              "      <td>24843494</td>\n",
              "    </tr>\n",
              "    <tr>\n",
              "      <th>18</th>\n",
              "      <td>합계</td>\n",
              "      <td>64576423</td>\n",
              "      <td>22204112</td>\n",
              "      <td>134748546</td>\n",
              "      <td>156952658</td>\n",
              "      <td>15373994</td>\n",
              "      <td>1347957</td>\n",
              "      <td>252942540</td>\n",
              "      <td>10735833</td>\n",
              "      <td>11247578</td>\n",
              "      <td>...</td>\n",
              "      <td>10504640</td>\n",
              "      <td>487262</td>\n",
              "      <td>5763846</td>\n",
              "      <td>47655808</td>\n",
              "      <td>17790147</td>\n",
              "      <td>4311878</td>\n",
              "      <td>3396006</td>\n",
              "      <td>559909</td>\n",
              "      <td>269664491</td>\n",
              "      <td>491193571</td>\n",
              "    </tr>\n",
              "  </tbody>\n",
              "</table>\n",
              "<p>19 rows × 28 columns</p>\n",
              "</div>"
            ],
            "text/plain": [
              "    구분       주거용       공공용       서비스업      업무용합계      농림어업       광업  \\\n",
              "0   강원   1940933   1400421    6203749    7604170    607139   398287   \n",
              "1   개성         0         0          0          0         0        0   \n",
              "2   경기  16587710   5533662   33434551   38968213   2371347   317263   \n",
              "3   경남   4260988   1427560    8667737   10095297   2141813    95989   \n",
              "4   경북   3302463   1578115    8487402   10065517   1747462   224568   \n",
              "5   광주   1954876    565527    3174973    3740500     74608     2898   \n",
              "6   대구   3151904    826396    5470438    6296834     69142     5858   \n",
              "7   대전   1872890    954681    3955921    4910602     28643     3326   \n",
              "8   부산   4473510   1305876    7582169    8888045    107927    25289   \n",
              "9   서울  13131172   3581534   27647345   31228879     15150     4064   \n",
              "10  세종    384903    299675     645424     945099     69469    16364   \n",
              "11  울산   1487143    489865    3649386    4139251     80221    20103   \n",
              "12  인천   3856852    921748    7154416    8076164    142953    71529   \n",
              "13  전남   2284124    964024    5690659    6654683   3096126    73217   \n",
              "14  전북   2326183   1096968    4910318    6007286   1415004    85300   \n",
              "15  제주    782601    301727    2308732    2610459   1364930    14019   \n",
              "16  충남   2691823   1089613    7164439    8254052   1928066   248313   \n",
              "17  충북   2027281   1267140    4804638    6071778    721131   139856   \n",
              "18  합계  64576423  22204112  134748546  156952658  15373994  1347957   \n",
              "\n",
              "          제조업     식료품제조     섬유,의류    ...          기타기계    사무기기     전기기기  \\\n",
              "0     6002286    546621     13027    ...         35063    2019    38062   \n",
              "1           0         0         0    ...             0       0        0   \n",
              "2    56603327   2544420   2109963    ...       3613798  317244  1040171   \n",
              "3    18053778    932743    346974    ...       1902913    8070   924235   \n",
              "4    30115601    566071   3780171    ...        782570   14468   750786   \n",
              "5     2910768    161072    295922    ...        198847    5967   236622   \n",
              "6     5862633    212626   1057342    ...        516493   58446   180189   \n",
              "7     2608343    204171     41687    ...         77970    2949    83609   \n",
              "8     7512588    532943    528513    ...        904149    4913   107717   \n",
              "9     1918893    227077    497699    ...        163688    4395    11425   \n",
              "10    1502922    110211     70617    ...         26185   14319    33539   \n",
              "11   25883132    187738    943299    ...        169132    5053   381602   \n",
              "12   12367816    641088     75895    ...        942801    7853   178502   \n",
              "13   21453926    511361    160506    ...         66431    1061   149939   \n",
              "14   12965875   1459217    731651    ...        159699    7240   130692   \n",
              "15     241537    155987      3497    ...          1167       0      771   \n",
              "16   37057955   1137035    269998    ...        611925   12208   428906   \n",
              "17   15883448   1152073    333846    ...        366871   23076  1125141   \n",
              "18  252942540  10735833  11247578    ...      10504640  487262  5763846   \n",
              "\n",
              "       영상,음향       자동차     기타운송    가구및기타    재생재료      산업용합계         합계  \n",
              "0      43986    113448   108629    12872    3418    7007712   16552816  \n",
              "1          0         0        0        0       0          0          0  \n",
              "2   24519644   2977165    67594  1833112  133041   59291937  114847859  \n",
              "3     534196   2156059  2048646   262523   47662   20291580   34647864  \n",
              "4    4174971   2356890   123935    60280   77104   32087631   45455611  \n",
              "5     723764    512148     5140    13392   16049    2988274    8683649  \n",
              "6     252662   1381273    68127    41814   33616    5937633   15386372  \n",
              "7     474561    218191     5439    31657    2252    2640312    9423804  \n",
              "8      90644   1046529   231141    49733   13104    7645804   21007358  \n",
              "9      46225     20182    17656   132707    2875    1938107   46298158  \n",
              "10    170366     79009        0     5132    2603    1588755    2918758  \n",
              "11     24165   2367150  1020610     4984    1626   25983456   31609850  \n",
              "12   1124564    612898    54225   360778   32538   12582298   24515313  \n",
              "13     42399     72132   481592    14670   31932   24623269   33562076  \n",
              "14    420005    859741    70980    16175   99003   14466179   22799647  \n",
              "15         0       773      532     1743     743    1620486    5013545  \n",
              "16  10953811   2526658    33766    53804   19725   39234334   50180209  \n",
              "17   4103832    603349    82496   513501   46038   16744435   24843494  \n",
              "18  47655808  17790147  4311878  3396006  559909  269664491  491193571  \n",
              "\n",
              "[19 rows x 28 columns]"
            ]
          },
          "metadata": {
            "tags": []
          },
          "execution_count": 7
        }
      ]
    },
    {
      "metadata": {
        "id": "ruR57QChuy7Z",
        "colab_type": "code",
        "outputId": "49a4ead5-993a-449b-c8c0-71475ae2fe7d",
        "colab": {
          "base_uri": "https://localhost:8080/",
          "height": 35
        }
      },
      "cell_type": "code",
      "source": [
        "type(power_data)"
      ],
      "execution_count": 8,
      "outputs": [
        {
          "output_type": "execute_result",
          "data": {
            "text/plain": [
              "pandas.core.frame.DataFrame"
            ]
          },
          "metadata": {
            "tags": []
          },
          "execution_count": 8
        }
      ]
    },
    {
      "metadata": {
        "id": "FXKzqsgeuy7k",
        "colab_type": "code",
        "outputId": "ce9e62f0-cb7e-4447-d539-ee080e131ba6",
        "colab": {
          "base_uri": "https://localhost:8080/",
          "height": 107
        }
      },
      "cell_type": "code",
      "source": [
        "power_data.columns"
      ],
      "execution_count": 9,
      "outputs": [
        {
          "output_type": "execute_result",
          "data": {
            "text/plain": [
              "Index(['구분', '주거용', '공공용', '서비스업', '업무용합계', '농림어업', '광업', '제조업', '식료품제조',\n",
              "       '섬유,의류', '목재,나무', '펄프,종이', '출판,인쇄', '석유,화확', '의료,광학', '요업', '1차금속',\n",
              "       '조립금속', '기타기계', '사무기기', '전기기기', '영상,음향', '자동차', '기타운송', '가구및기타', '재생재료',\n",
              "       '산업용합계', '합계'],\n",
              "      dtype='object')"
            ]
          },
          "metadata": {
            "tags": []
          },
          "execution_count": 9
        }
      ]
    },
    {
      "metadata": {
        "id": "_E3g7CFIuy7t",
        "colab_type": "code",
        "colab": {}
      },
      "cell_type": "code",
      "source": [
        "power = power_data.set_index('구분')"
      ],
      "execution_count": 0,
      "outputs": []
    },
    {
      "metadata": {
        "id": "K-4kPdohuy71",
        "colab_type": "code",
        "colab": {}
      },
      "cell_type": "code",
      "source": [
        "power = power.drop(['합계', '개성'], errors='ignore')"
      ],
      "execution_count": 0,
      "outputs": []
    },
    {
      "metadata": {
        "id": "wxzo-ImJuy8I",
        "colab_type": "code",
        "outputId": "601c1144-91ff-4f1d-a9d0-a7d5fcf9c7c6",
        "colab": {
          "base_uri": "https://localhost:8080/",
          "height": 593
        }
      },
      "cell_type": "code",
      "source": [
        "power.info()"
      ],
      "execution_count": 12,
      "outputs": [
        {
          "output_type": "stream",
          "text": [
            "<class 'pandas.core.frame.DataFrame'>\n",
            "Index: 17 entries, 강원 to 충북\n",
            "Data columns (total 27 columns):\n",
            "주거용      17 non-null int64\n",
            "공공용      17 non-null int64\n",
            "서비스업     17 non-null int64\n",
            "업무용합계    17 non-null int64\n",
            "농림어업     17 non-null int64\n",
            "광업       17 non-null int64\n",
            "제조업      17 non-null int64\n",
            "식료품제조    17 non-null int64\n",
            "섬유,의류    17 non-null int64\n",
            "목재,나무    17 non-null int64\n",
            "펄프,종이    17 non-null int64\n",
            "출판,인쇄    17 non-null int64\n",
            "석유,화확    17 non-null int64\n",
            "의료,광학    17 non-null int64\n",
            "요업       17 non-null int64\n",
            "1차금속     17 non-null int64\n",
            "조립금속     17 non-null int64\n",
            "기타기계     17 non-null int64\n",
            "사무기기     17 non-null int64\n",
            "전기기기     17 non-null int64\n",
            "영상,음향    17 non-null int64\n",
            "자동차      17 non-null int64\n",
            "기타운송     17 non-null int64\n",
            "가구및기타    17 non-null int64\n",
            "재생재료     17 non-null int64\n",
            "산업용합계    17 non-null int64\n",
            "합계       17 non-null int64\n",
            "dtypes: int64(27)\n",
            "memory usage: 3.7+ KB\n"
          ],
          "name": "stdout"
        }
      ]
    },
    {
      "metadata": {
        "id": "3qxgLsC4uy8U",
        "colab_type": "text"
      },
      "cell_type": "markdown",
      "source": [
        "데이터 특성 보기\n",
        "--\n",
        "- boxplot\n",
        "- barplot\n",
        "- histogram"
      ]
    },
    {
      "metadata": {
        "id": "RT8oCh8luy8X",
        "colab_type": "text"
      },
      "cell_type": "markdown",
      "source": [
        "박스플롯\n",
        "--"
      ]
    },
    {
      "metadata": {
        "id": "2R-P6ZHTuy8a",
        "colab_type": "text"
      },
      "cell_type": "markdown",
      "source": [
        "한글 폰트 설정 (맥, 윈도우, 리눅스)\n",
        "--"
      ]
    },
    {
      "metadata": {
        "id": "e1Rxummiuy8d",
        "colab_type": "code",
        "colab": {}
      },
      "cell_type": "code",
      "source": [
        "# 운영 체제마다 한글이 보이게 하는 설정\n",
        "# 윈도우\n",
        "import platform\n",
        "from matplotlib import font_manager, rc \n",
        "if platform.system() == 'Windows':\n",
        "    path = \"c:\\Windows\\Fonts\\malgun.ttf\"\n",
        "    font_name = font_manager.FontProperties(fname=path).get_name()\n",
        "    rc('font', family=font_name)\n",
        "# 맥\n",
        "elif platform.system() == 'Darwin':\n",
        "    rc('font', family='AppleGothic')\n",
        "# 리눅스\n",
        "elif platform.system() == 'Linux':\n",
        "    rc('font', family='NanumBarunGothic')"
      ],
      "execution_count": 0,
      "outputs": []
    },
    {
      "metadata": {
        "id": "bvFtb6wduy8n",
        "colab_type": "code",
        "outputId": "b6323a2e-a067-45cc-80b1-edc555d27b08",
        "colab": {
          "base_uri": "https://localhost:8080/",
          "height": 346
        }
      },
      "cell_type": "code",
      "source": [
        "power.describe()"
      ],
      "execution_count": 21,
      "outputs": [
        {
          "output_type": "execute_result",
          "data": {
            "text/html": [
              "<div>\n",
              "<style scoped>\n",
              "    .dataframe tbody tr th:only-of-type {\n",
              "        vertical-align: middle;\n",
              "    }\n",
              "\n",
              "    .dataframe tbody tr th {\n",
              "        vertical-align: top;\n",
              "    }\n",
              "\n",
              "    .dataframe thead th {\n",
              "        text-align: right;\n",
              "    }\n",
              "</style>\n",
              "<table border=\"1\" class=\"dataframe\">\n",
              "  <thead>\n",
              "    <tr style=\"text-align: right;\">\n",
              "      <th></th>\n",
              "      <th>주거용</th>\n",
              "      <th>공공용</th>\n",
              "      <th>서비스업</th>\n",
              "      <th>업무용합계</th>\n",
              "      <th>농림어업</th>\n",
              "      <th>광업</th>\n",
              "      <th>제조업</th>\n",
              "      <th>식료품제조</th>\n",
              "      <th>섬유,의류</th>\n",
              "      <th>목재,나무</th>\n",
              "      <th>...</th>\n",
              "      <th>기타기계</th>\n",
              "      <th>사무기기</th>\n",
              "      <th>전기기기</th>\n",
              "      <th>영상,음향</th>\n",
              "      <th>자동차</th>\n",
              "      <th>기타운송</th>\n",
              "      <th>가구및기타</th>\n",
              "      <th>재생재료</th>\n",
              "      <th>산업용합계</th>\n",
              "      <th>합계</th>\n",
              "    </tr>\n",
              "  </thead>\n",
              "  <tbody>\n",
              "    <tr>\n",
              "      <th>count</th>\n",
              "      <td>1.700000e+01</td>\n",
              "      <td>1.700000e+01</td>\n",
              "      <td>1.700000e+01</td>\n",
              "      <td>1.700000e+01</td>\n",
              "      <td>1.700000e+01</td>\n",
              "      <td>17.000000</td>\n",
              "      <td>1.700000e+01</td>\n",
              "      <td>1.700000e+01</td>\n",
              "      <td>1.700000e+01</td>\n",
              "      <td>17.000000</td>\n",
              "      <td>...</td>\n",
              "      <td>1.700000e+01</td>\n",
              "      <td>17.000000</td>\n",
              "      <td>1.700000e+01</td>\n",
              "      <td>1.700000e+01</td>\n",
              "      <td>1.700000e+01</td>\n",
              "      <td>1.700000e+01</td>\n",
              "      <td>1.700000e+01</td>\n",
              "      <td>17.000000</td>\n",
              "      <td>1.700000e+01</td>\n",
              "      <td>1.700000e+01</td>\n",
              "    </tr>\n",
              "    <tr>\n",
              "      <th>mean</th>\n",
              "      <td>3.912786e+06</td>\n",
              "      <td>1.388502e+06</td>\n",
              "      <td>8.291312e+06</td>\n",
              "      <td>9.679813e+06</td>\n",
              "      <td>9.400665e+05</td>\n",
              "      <td>102720.176471</td>\n",
              "      <td>1.523205e+07</td>\n",
              "      <td>6.636738e+05</td>\n",
              "      <td>6.623886e+05</td>\n",
              "      <td>113237.000000</td>\n",
              "      <td>...</td>\n",
              "      <td>6.199825e+05</td>\n",
              "      <td>28781.235294</td>\n",
              "      <td>3.412887e+05</td>\n",
              "      <td>2.805870e+06</td>\n",
              "      <td>1.053153e+06</td>\n",
              "      <td>2.600299e+05</td>\n",
              "      <td>2.005222e+05</td>\n",
              "      <td>33137.000000</td>\n",
              "      <td>1.627484e+07</td>\n",
              "      <td>2.986743e+07</td>\n",
              "    </tr>\n",
              "    <tr>\n",
              "      <th>std</th>\n",
              "      <td>4.310227e+06</td>\n",
              "      <td>1.298531e+06</td>\n",
              "      <td>8.708909e+06</td>\n",
              "      <td>9.981623e+06</td>\n",
              "      <td>1.010972e+06</td>\n",
              "      <td>122502.337918</td>\n",
              "      <td>1.524290e+07</td>\n",
              "      <td>6.333206e+05</td>\n",
              "      <td>9.612365e+05</td>\n",
              "      <td>192034.155445</td>\n",
              "      <td>...</td>\n",
              "      <td>9.142491e+05</td>\n",
              "      <td>75569.163261</td>\n",
              "      <td>3.788489e+05</td>\n",
              "      <td>6.246070e+06</td>\n",
              "      <td>1.031256e+06</td>\n",
              "      <td>5.260199e+05</td>\n",
              "      <td>4.450945e+05</td>\n",
              "      <td>38105.462924</td>\n",
              "      <td>1.598920e+07</td>\n",
              "      <td>2.618055e+07</td>\n",
              "    </tr>\n",
              "    <tr>\n",
              "      <th>min</th>\n",
              "      <td>3.849030e+05</td>\n",
              "      <td>2.996750e+05</td>\n",
              "      <td>6.454240e+05</td>\n",
              "      <td>9.450990e+05</td>\n",
              "      <td>1.515000e+04</td>\n",
              "      <td>2898.000000</td>\n",
              "      <td>2.415370e+05</td>\n",
              "      <td>1.102110e+05</td>\n",
              "      <td>3.497000e+03</td>\n",
              "      <td>1324.000000</td>\n",
              "      <td>...</td>\n",
              "      <td>1.167000e+03</td>\n",
              "      <td>0.000000</td>\n",
              "      <td>7.710000e+02</td>\n",
              "      <td>0.000000e+00</td>\n",
              "      <td>7.730000e+02</td>\n",
              "      <td>0.000000e+00</td>\n",
              "      <td>1.743000e+03</td>\n",
              "      <td>743.000000</td>\n",
              "      <td>1.588755e+06</td>\n",
              "      <td>2.918758e+06</td>\n",
              "    </tr>\n",
              "    <tr>\n",
              "      <th>25%</th>\n",
              "      <td>1.940933e+06</td>\n",
              "      <td>8.263960e+05</td>\n",
              "      <td>3.955921e+06</td>\n",
              "      <td>4.910602e+06</td>\n",
              "      <td>7.460800e+04</td>\n",
              "      <td>14019.000000</td>\n",
              "      <td>2.910768e+06</td>\n",
              "      <td>2.041710e+05</td>\n",
              "      <td>7.589500e+04</td>\n",
              "      <td>6782.000000</td>\n",
              "      <td>...</td>\n",
              "      <td>7.797000e+04</td>\n",
              "      <td>4395.000000</td>\n",
              "      <td>8.360900e+04</td>\n",
              "      <td>4.622500e+04</td>\n",
              "      <td>1.134480e+05</td>\n",
              "      <td>1.765600e+04</td>\n",
              "      <td>1.339200e+04</td>\n",
              "      <td>2875.000000</td>\n",
              "      <td>2.988274e+06</td>\n",
              "      <td>1.538637e+07</td>\n",
              "    </tr>\n",
              "    <tr>\n",
              "      <th>50%</th>\n",
              "      <td>2.326183e+06</td>\n",
              "      <td>1.089613e+06</td>\n",
              "      <td>5.690659e+06</td>\n",
              "      <td>6.654683e+06</td>\n",
              "      <td>6.071390e+05</td>\n",
              "      <td>71529.000000</td>\n",
              "      <td>1.236782e+07</td>\n",
              "      <td>5.329430e+05</td>\n",
              "      <td>3.338460e+05</td>\n",
              "      <td>27998.000000</td>\n",
              "      <td>...</td>\n",
              "      <td>1.988470e+05</td>\n",
              "      <td>7240.000000</td>\n",
              "      <td>1.785020e+05</td>\n",
              "      <td>4.200050e+05</td>\n",
              "      <td>6.128980e+05</td>\n",
              "      <td>6.812700e+04</td>\n",
              "      <td>4.181400e+04</td>\n",
              "      <td>19725.000000</td>\n",
              "      <td>1.258230e+07</td>\n",
              "      <td>2.451531e+07</td>\n",
              "    </tr>\n",
              "    <tr>\n",
              "      <th>75%</th>\n",
              "      <td>3.856852e+06</td>\n",
              "      <td>1.400421e+06</td>\n",
              "      <td>7.582169e+06</td>\n",
              "      <td>8.888045e+06</td>\n",
              "      <td>1.747462e+06</td>\n",
              "      <td>139856.000000</td>\n",
              "      <td>2.145393e+07</td>\n",
              "      <td>9.327430e+05</td>\n",
              "      <td>7.316510e+05</td>\n",
              "      <td>72680.000000</td>\n",
              "      <td>...</td>\n",
              "      <td>7.825700e+05</td>\n",
              "      <td>14319.000000</td>\n",
              "      <td>4.289060e+05</td>\n",
              "      <td>1.124564e+06</td>\n",
              "      <td>2.156059e+06</td>\n",
              "      <td>1.239350e+05</td>\n",
              "      <td>1.327070e+05</td>\n",
              "      <td>46038.000000</td>\n",
              "      <td>2.462327e+07</td>\n",
              "      <td>3.464786e+07</td>\n",
              "    </tr>\n",
              "    <tr>\n",
              "      <th>max</th>\n",
              "      <td>1.658771e+07</td>\n",
              "      <td>5.533662e+06</td>\n",
              "      <td>3.343455e+07</td>\n",
              "      <td>3.896821e+07</td>\n",
              "      <td>3.096126e+06</td>\n",
              "      <td>398287.000000</td>\n",
              "      <td>5.660333e+07</td>\n",
              "      <td>2.544420e+06</td>\n",
              "      <td>3.780171e+06</td>\n",
              "      <td>639429.000000</td>\n",
              "      <td>...</td>\n",
              "      <td>3.613798e+06</td>\n",
              "      <td>317244.000000</td>\n",
              "      <td>1.125141e+06</td>\n",
              "      <td>2.451964e+07</td>\n",
              "      <td>2.977165e+06</td>\n",
              "      <td>2.048646e+06</td>\n",
              "      <td>1.833112e+06</td>\n",
              "      <td>133041.000000</td>\n",
              "      <td>5.929194e+07</td>\n",
              "      <td>1.148479e+08</td>\n",
              "    </tr>\n",
              "  </tbody>\n",
              "</table>\n",
              "<p>8 rows × 27 columns</p>\n",
              "</div>"
            ],
            "text/plain": [
              "                주거용           공공용          서비스업         업무용합계          농림어업  \\\n",
              "count  1.700000e+01  1.700000e+01  1.700000e+01  1.700000e+01  1.700000e+01   \n",
              "mean   3.912786e+06  1.388502e+06  8.291312e+06  9.679813e+06  9.400665e+05   \n",
              "std    4.310227e+06  1.298531e+06  8.708909e+06  9.981623e+06  1.010972e+06   \n",
              "min    3.849030e+05  2.996750e+05  6.454240e+05  9.450990e+05  1.515000e+04   \n",
              "25%    1.940933e+06  8.263960e+05  3.955921e+06  4.910602e+06  7.460800e+04   \n",
              "50%    2.326183e+06  1.089613e+06  5.690659e+06  6.654683e+06  6.071390e+05   \n",
              "75%    3.856852e+06  1.400421e+06  7.582169e+06  8.888045e+06  1.747462e+06   \n",
              "max    1.658771e+07  5.533662e+06  3.343455e+07  3.896821e+07  3.096126e+06   \n",
              "\n",
              "                  광업           제조업         식료품제조         섬유,의류          목재,나무  \\\n",
              "count      17.000000  1.700000e+01  1.700000e+01  1.700000e+01      17.000000   \n",
              "mean   102720.176471  1.523205e+07  6.636738e+05  6.623886e+05  113237.000000   \n",
              "std    122502.337918  1.524290e+07  6.333206e+05  9.612365e+05  192034.155445   \n",
              "min      2898.000000  2.415370e+05  1.102110e+05  3.497000e+03    1324.000000   \n",
              "25%     14019.000000  2.910768e+06  2.041710e+05  7.589500e+04    6782.000000   \n",
              "50%     71529.000000  1.236782e+07  5.329430e+05  3.338460e+05   27998.000000   \n",
              "75%    139856.000000  2.145393e+07  9.327430e+05  7.316510e+05   72680.000000   \n",
              "max    398287.000000  5.660333e+07  2.544420e+06  3.780171e+06  639429.000000   \n",
              "\n",
              "           ...               기타기계           사무기기          전기기기         영상,음향  \\\n",
              "count      ...       1.700000e+01      17.000000  1.700000e+01  1.700000e+01   \n",
              "mean       ...       6.199825e+05   28781.235294  3.412887e+05  2.805870e+06   \n",
              "std        ...       9.142491e+05   75569.163261  3.788489e+05  6.246070e+06   \n",
              "min        ...       1.167000e+03       0.000000  7.710000e+02  0.000000e+00   \n",
              "25%        ...       7.797000e+04    4395.000000  8.360900e+04  4.622500e+04   \n",
              "50%        ...       1.988470e+05    7240.000000  1.785020e+05  4.200050e+05   \n",
              "75%        ...       7.825700e+05   14319.000000  4.289060e+05  1.124564e+06   \n",
              "max        ...       3.613798e+06  317244.000000  1.125141e+06  2.451964e+07   \n",
              "\n",
              "                자동차          기타운송         가구및기타           재생재료         산업용합계  \\\n",
              "count  1.700000e+01  1.700000e+01  1.700000e+01      17.000000  1.700000e+01   \n",
              "mean   1.053153e+06  2.600299e+05  2.005222e+05   33137.000000  1.627484e+07   \n",
              "std    1.031256e+06  5.260199e+05  4.450945e+05   38105.462924  1.598920e+07   \n",
              "min    7.730000e+02  0.000000e+00  1.743000e+03     743.000000  1.588755e+06   \n",
              "25%    1.134480e+05  1.765600e+04  1.339200e+04    2875.000000  2.988274e+06   \n",
              "50%    6.128980e+05  6.812700e+04  4.181400e+04   19725.000000  1.258230e+07   \n",
              "75%    2.156059e+06  1.239350e+05  1.327070e+05   46038.000000  2.462327e+07   \n",
              "max    2.977165e+06  2.048646e+06  1.833112e+06  133041.000000  5.929194e+07   \n",
              "\n",
              "                 합계  \n",
              "count  1.700000e+01  \n",
              "mean   2.986743e+07  \n",
              "std    2.618055e+07  \n",
              "min    2.918758e+06  \n",
              "25%    1.538637e+07  \n",
              "50%    2.451531e+07  \n",
              "75%    3.464786e+07  \n",
              "max    1.148479e+08  \n",
              "\n",
              "[8 rows x 27 columns]"
            ]
          },
          "metadata": {
            "tags": []
          },
          "execution_count": 21
        }
      ]
    },
    {
      "metadata": {
        "id": "e9JGIVB3z7rD",
        "colab_type": "code",
        "colab": {
          "base_uri": "https://localhost:8080/",
          "height": 539
        },
        "outputId": "9ff79152-adf2-40b7-e128-257b19cfc4ff"
      },
      "cell_type": "code",
      "source": [
        "!apt-get install fonts-nanum*\n",
        "!apt-get install fontconfig\n",
        "!fc-cache -fv\n",
        "!cp /usr/share/fonts/truetype/nanum/Nanum* /usr/local/lib/python3.6/dist-packages/matplotlib/mpl-data/fonts/ttf/\n",
        "!rm -rf /content/.cache/matplotlib/*\n",
        "\n",
        "import matplotlib\n",
        "matplotlib.font_manager._rebuild()"
      ],
      "execution_count": 22,
      "outputs": [
        {
          "output_type": "stream",
          "text": [
            "Reading package lists... Done\n",
            "Building dependency tree       \n",
            "Reading state information... Done\n",
            "Note, selecting 'fonts-nanum-eco' for glob 'fonts-nanum*'\n",
            "Note, selecting 'fonts-nanum' for glob 'fonts-nanum*'\n",
            "Note, selecting 'fonts-nanum-gothic-light' for glob 'fonts-nanum*'\n",
            "Note, selecting 'fonts-nanum-coding' for glob 'fonts-nanum*'\n",
            "Note, selecting 'fonts-nanum-extra' for glob 'fonts-nanum*'\n",
            "fonts-nanum is already the newest version (20170925-1).\n",
            "fonts-nanum-coding is already the newest version (2.5-1).\n",
            "fonts-nanum-eco is already the newest version (1.000-6).\n",
            "fonts-nanum-extra is already the newest version (20170925-1).\n",
            "0 upgraded, 0 newly installed, 0 to remove and 10 not upgraded.\n",
            "Reading package lists... Done\n",
            "Building dependency tree       \n",
            "Reading state information... Done\n",
            "fontconfig is already the newest version (2.12.6-0ubuntu2).\n",
            "0 upgraded, 0 newly installed, 0 to remove and 10 not upgraded.\n",
            "/usr/share/fonts: caching, new cache contents: 0 fonts, 1 dirs\n",
            "/usr/share/fonts/truetype: caching, new cache contents: 0 fonts, 2 dirs\n",
            "/usr/share/fonts/truetype/liberation: caching, new cache contents: 16 fonts, 0 dirs\n",
            "/usr/share/fonts/truetype/nanum: caching, new cache contents: 31 fonts, 0 dirs\n",
            "/usr/local/share/fonts: caching, new cache contents: 0 fonts, 0 dirs\n",
            "/root/.local/share/fonts: skipping, no such directory\n",
            "/root/.fonts: skipping, no such directory\n",
            "/var/cache/fontconfig: cleaning cache directory\n",
            "/root/.cache/fontconfig: not cleaning non-existent cache directory\n",
            "/root/.fontconfig: not cleaning non-existent cache directory\n",
            "fc-cache: succeeded\n"
          ],
          "name": "stdout"
        }
      ]
    },
    {
      "metadata": {
        "scrolled": false,
        "id": "XrYKtOZNuy83",
        "colab_type": "code",
        "outputId": "e6e75441-492e-4616-cf38-7cfe2f6ba5e6",
        "colab": {
          "base_uri": "https://localhost:8080/",
          "height": 575
        }
      },
      "cell_type": "code",
      "source": [
        "power.drop('합계', axis=1).boxplot(figsize=(12,8))\n",
        "plt.xticks(rotation=45)"
      ],
      "execution_count": 23,
      "outputs": [
        {
          "output_type": "execute_result",
          "data": {
            "text/plain": [
              "(array([ 1,  2,  3,  4,  5,  6,  7,  8,  9, 10, 11, 12, 13, 14, 15, 16, 17,\n",
              "        18, 19, 20, 21, 22, 23, 24, 25, 26]),\n",
              " <a list of 26 Text xticklabel objects>)"
            ]
          },
          "metadata": {
            "tags": []
          },
          "execution_count": 23
        },
        {
          "output_type": "display_data",
          "data": {
            "image/png": "[encoded data removed]",
            "text/plain": [
              "<Figure size 864x576 with 1 Axes>"
            ]
          },
          "metadata": {
            "tags": []
          }
        }
      ]
    },
    {
      "metadata": {
        "id": "pCzEQhFYuy9G",
        "colab_type": "code",
        "outputId": "6240c410-4536-4942-b90e-c4fb73d4b74b",
        "colab": {
          "base_uri": "https://localhost:8080/",
          "height": 402
        }
      },
      "cell_type": "code",
      "source": [
        "power[['서비스업','제조업']].boxplot(figsize=(10,6))"
      ],
      "execution_count": 24,
      "outputs": [
        {
          "output_type": "execute_result",
          "data": {
            "text/plain": [
              "<matplotlib.axes._subplots.AxesSubplot at 0x7efd2dcbf0f0>"
            ]
          },
          "metadata": {
            "tags": []
          },
          "execution_count": 24
        },
        {
          "output_type": "display_data",
          "data": {
            "image/png": "[encoded data removed]",
            "text/plain": [
              "<Figure size 720x432 with 1 Axes>"
            ]
          },
          "metadata": {
            "tags": []
          }
        }
      ]
    },
    {
      "metadata": {
        "id": "9FbCIzDxuy9U",
        "colab_type": "text"
      },
      "cell_type": "markdown",
      "source": [
        "바 플롯 (수평형)\n",
        "--"
      ]
    },
    {
      "metadata": {
        "id": "qMj5Tanpuy9W",
        "colab_type": "code",
        "colab": {}
      },
      "cell_type": "code",
      "source": [
        "power = power.drop('합계', axis=1)"
      ],
      "execution_count": 0,
      "outputs": []
    },
    {
      "metadata": {
        "scrolled": true,
        "id": "Ip9aPZx-uy9q",
        "colab_type": "code",
        "outputId": "e1f35fa6-74c7-404d-ce93-2109f26c6d5a",
        "colab": {
          "base_uri": "https://localhost:8080/",
          "height": 514
        }
      },
      "cell_type": "code",
      "source": [
        "power.plot(kind='barh', figsize=(12,8), stacked=True)"
      ],
      "execution_count": 26,
      "outputs": [
        {
          "output_type": "execute_result",
          "data": {
            "text/plain": [
              "<matplotlib.axes._subplots.AxesSubplot at 0x7efd2dbf3c50>"
            ]
          },
          "metadata": {
            "tags": []
          },
          "execution_count": 26
        },
        {
          "output_type": "display_data",
          "data": {
            "image/png": "[encoded data removed]",
            "text/plain": [
              "<Figure size 864x576 with 1 Axes>"
            ]
          },
          "metadata": {
            "tags": []
          }
        }
      ]
    },
    {
      "metadata": {
        "id": "rZmTZQFuuy98",
        "colab_type": "code",
        "colab": {}
      },
      "cell_type": "code",
      "source": [
        "power = power.drop(['합계', '개성'])"
      ],
      "execution_count": 0,
      "outputs": []
    },
    {
      "metadata": {
        "id": "LRq7rOo_uy-F",
        "colab_type": "code",
        "outputId": "fc913622-1ba6-4f18-b4f8-e64f2b51a68b",
        "colab": {}
      },
      "cell_type": "code",
      "source": [
        "power.plot(kind='barh', figsize=(10,6), stacked=True)"
      ],
      "execution_count": 0,
      "outputs": [
        {
          "output_type": "execute_result",
          "data": {
            "text/plain": [
              "<matplotlib.axes._subplots.AxesSubplot at 0x1a10ab0a20>"
            ]
          },
          "metadata": {
            "tags": []
          },
          "execution_count": 150
        },
        {
          "output_type": "display_data",
          "data": {
            "image/png": "[encoded data removed]",
            "text/plain": [
              "<Figure size 720x432 with 1 Axes>"
            ]
          },
          "metadata": {
            "tags": [],
            "needs_background": "light"
          }
        }
      ]
    },
    {
      "metadata": {
        "id": "1HCVb0LYuy-N",
        "colab_type": "code",
        "outputId": "d0396f66-3d72-4970-ff38-8f1e7d499f9f",
        "colab": {}
      },
      "cell_type": "code",
      "source": [
        "sample = ['주거용', '공공용', '서비스업', '농림어업', '제조업']\n",
        "power[sample].plot(kind='barh', figsize=(12,8), stacked=True)"
      ],
      "execution_count": 0,
      "outputs": [
        {
          "output_type": "execute_result",
          "data": {
            "text/plain": [
              "<matplotlib.axes._subplots.AxesSubplot at 0x1a111c6780>"
            ]
          },
          "metadata": {
            "tags": []
          },
          "execution_count": 151
        },
        {
          "output_type": "display_data",
          "data": {
            "image/png": "[encoded data removed]",
            "text/plain": [
              "<Figure size 864x576 with 1 Axes>"
            ]
          },
          "metadata": {
            "tags": [],
            "needs_background": "light"
          }
        }
      ]
    },
    {
      "metadata": {
        "id": "kxixDpwCuy-V",
        "colab_type": "code",
        "outputId": "cb96980b-50b4-4558-8be3-4e9f39d9439a",
        "colab": {}
      },
      "cell_type": "code",
      "source": [
        "see2 = [ '서비스업','제조업']\n",
        "power[see2].plot(kind='barh', figsize=(10,6), stacked=True)"
      ],
      "execution_count": 0,
      "outputs": [
        {
          "output_type": "execute_result",
          "data": {
            "text/plain": [
              "<matplotlib.axes._subplots.AxesSubplot at 0x1a1130ce80>"
            ]
          },
          "metadata": {
            "tags": []
          },
          "execution_count": 152
        },
        {
          "output_type": "display_data",
          "data": {
            "image/png": "[encoded data removed]",
            "text/plain": [
              "<Figure size 720x432 with 1 Axes>"
            ]
          },
          "metadata": {
            "tags": [],
            "needs_background": "light"
          }
        }
      ]
    },
    {
      "metadata": {
        "scrolled": false,
        "id": "_Swn2fEBuy-e",
        "colab_type": "code",
        "outputId": "5ecbde74-1716-41cd-907d-2e1f0fcf50e6",
        "colab": {}
      },
      "cell_type": "code",
      "source": [
        "power = power[['서비스업', '제조업']]\n",
        "power.head(5)"
      ],
      "execution_count": 0,
      "outputs": [
        {
          "output_type": "execute_result",
          "data": {
            "text/html": [
              "<div>\n",
              "<style scoped>\n",
              "    .dataframe tbody tr th:only-of-type {\n",
              "        vertical-align: middle;\n",
              "    }\n",
              "\n",
              "    .dataframe tbody tr th {\n",
              "        vertical-align: top;\n",
              "    }\n",
              "\n",
              "    .dataframe thead th {\n",
              "        text-align: right;\n",
              "    }\n",
              "</style>\n",
              "<table border=\"1\" class=\"dataframe\">\n",
              "  <thead>\n",
              "    <tr style=\"text-align: right;\">\n",
              "      <th></th>\n",
              "      <th>서비스업</th>\n",
              "      <th>제조업</th>\n",
              "    </tr>\n",
              "    <tr>\n",
              "      <th>구분</th>\n",
              "      <th></th>\n",
              "      <th></th>\n",
              "    </tr>\n",
              "  </thead>\n",
              "  <tbody>\n",
              "    <tr>\n",
              "      <th>강원</th>\n",
              "      <td>6203749</td>\n",
              "      <td>6002286</td>\n",
              "    </tr>\n",
              "    <tr>\n",
              "      <th>경기</th>\n",
              "      <td>33434551</td>\n",
              "      <td>56603327</td>\n",
              "    </tr>\n",
              "    <tr>\n",
              "      <th>경남</th>\n",
              "      <td>8667737</td>\n",
              "      <td>18053778</td>\n",
              "    </tr>\n",
              "    <tr>\n",
              "      <th>경북</th>\n",
              "      <td>8487402</td>\n",
              "      <td>30115601</td>\n",
              "    </tr>\n",
              "    <tr>\n",
              "      <th>광주</th>\n",
              "      <td>3174973</td>\n",
              "      <td>2910768</td>\n",
              "    </tr>\n",
              "  </tbody>\n",
              "</table>\n",
              "</div>"
            ],
            "text/plain": [
              "        서비스업       제조업\n",
              "구분                    \n",
              "강원   6203749   6002286\n",
              "경기  33434551  56603327\n",
              "경남   8667737  18053778\n",
              "경북   8487402  30115601\n",
              "광주   3174973   2910768"
            ]
          },
          "metadata": {
            "tags": []
          },
          "execution_count": 153
        }
      ]
    },
    {
      "metadata": {
        "id": "cDdWuu7auy-m",
        "colab_type": "text"
      },
      "cell_type": "markdown",
      "source": [
        "히스토그램\n",
        "--"
      ]
    },
    {
      "metadata": {
        "id": "jgXTEoEXuy-o",
        "colab_type": "code",
        "outputId": "27f42d83-7c66-4344-b41e-6fc87681bc86",
        "colab": {}
      },
      "cell_type": "code",
      "source": [
        "power['서비스업'].hist()"
      ],
      "execution_count": 0,
      "outputs": [
        {
          "output_type": "execute_result",
          "data": {
            "text/plain": [
              "<matplotlib.axes._subplots.AxesSubplot at 0x1a112c5978>"
            ]
          },
          "metadata": {
            "tags": []
          },
          "execution_count": 154
        },
        {
          "output_type": "display_data",
          "data": {
            "image/png": "[encoded data removed]",
            "text/plain": [
              "<Figure size 432x288 with 1 Axes>"
            ]
          },
          "metadata": {
            "tags": [],
            "needs_background": "light"
          }
        }
      ]
    },
    {
      "metadata": {
        "id": "FGDyoLVFuy-u",
        "colab_type": "text"
      },
      "cell_type": "markdown",
      "source": [
        "스캐터 플롯\n",
        "--"
      ]
    },
    {
      "metadata": {
        "id": "DjiLxep6uy-w",
        "colab_type": "code",
        "outputId": "fd13fec1-e7c9-4be7-fc8a-71e9868e90a0",
        "colab": {}
      },
      "cell_type": "code",
      "source": [
        "print(power.shape)"
      ],
      "execution_count": 0,
      "outputs": [
        {
          "output_type": "stream",
          "text": [
            "(17, 2)\n"
          ],
          "name": "stdout"
        }
      ]
    },
    {
      "metadata": {
        "id": "tndpklS4uy-1",
        "colab_type": "code",
        "outputId": "2943e32a-fcc3-417f-df51-ea735af22587",
        "colab": {}
      },
      "cell_type": "code",
      "source": [
        "n_samples = power.shape[0]\n",
        "n_samples"
      ],
      "execution_count": 0,
      "outputs": [
        {
          "output_type": "execute_result",
          "data": {
            "text/plain": [
              "17"
            ]
          },
          "metadata": {
            "tags": []
          },
          "execution_count": 156
        }
      ]
    },
    {
      "metadata": {
        "id": "PDNP1cnpuy-8",
        "colab_type": "code",
        "outputId": "d5243e74-72f3-4838-e257-f722887921cc",
        "colab": {}
      },
      "cell_type": "code",
      "source": [
        "print(n_samples)"
      ],
      "execution_count": 0,
      "outputs": [
        {
          "output_type": "stream",
          "text": [
            "17\n"
          ],
          "name": "stdout"
        }
      ]
    },
    {
      "metadata": {
        "scrolled": true,
        "id": "9CJAv0KGuy_A",
        "colab_type": "code",
        "outputId": "39a44ade-bf15-4d9a-c937-d628e919439c",
        "colab": {}
      },
      "cell_type": "code",
      "source": [
        "plt.figure(figsize=(8,8))\n",
        "plt.scatter(power['서비스업'], power['제조업'])\n",
        "plt.xlabel('서비스업')\n",
        "plt.ylabel('제조업')"
      ],
      "execution_count": 0,
      "outputs": [
        {
          "output_type": "execute_result",
          "data": {
            "text/plain": [
              "Text(0,0.5,'제조업')"
            ]
          },
          "metadata": {
            "tags": []
          },
          "execution_count": 158
        },
        {
          "output_type": "display_data",
          "data": {
            "image/png": "[encoded data removed]",
            "text/plain": [
              "<Figure size 576x576 with 1 Axes>"
            ]
          },
          "metadata": {
            "tags": [],
            "needs_background": "light"
          }
        }
      ]
    },
    {
      "metadata": {
        "id": "HjBjXb6Juy_F",
        "colab_type": "code",
        "outputId": "8c93f961-acee-4b64-8482-118fb24753d0",
        "colab": {}
      },
      "cell_type": "code",
      "source": [
        "plt.figure(figsize=(8,8))\n",
        "plt.scatter(power['서비스업'], power['제조업'],c='k',marker='o')\n",
        "plt.xlabel('서비스업')\n",
        "plt.ylabel('제조업')\n",
        "\n",
        "for n in range(power.shape[0]):\n",
        "    plt.text(power['서비스업'][n]*1.03, power['제조업'][n]*0.98, power.index[n])"
      ],
      "execution_count": 0,
      "outputs": [
        {
          "output_type": "display_data",
          "data": {
            "image/png": "[encoded data removed]",
            "text/plain": [
              "<Figure size 576x576 with 1 Axes>"
            ]
          },
          "metadata": {
            "tags": [],
            "needs_background": "light"
          }
        }
      ]
    },
    {
      "metadata": {
        "id": "QmkXEHH7uy_M",
        "colab_type": "code",
        "colab": {}
      },
      "cell_type": "code",
      "source": [
        "power = power.drop(['경기', '서울'])"
      ],
      "execution_count": 0,
      "outputs": []
    },
    {
      "metadata": {
        "id": "p_0i1t8Nuy_S",
        "colab_type": "code",
        "outputId": "e1c1f45c-06b2-47ad-8ac5-2ce7fd848503",
        "colab": {}
      },
      "cell_type": "code",
      "source": [
        "power"
      ],
      "execution_count": 0,
      "outputs": [
        {
          "output_type": "execute_result",
          "data": {
            "text/html": [
              "<div>\n",
              "<style scoped>\n",
              "    .dataframe tbody tr th:only-of-type {\n",
              "        vertical-align: middle;\n",
              "    }\n",
              "\n",
              "    .dataframe tbody tr th {\n",
              "        vertical-align: top;\n",
              "    }\n",
              "\n",
              "    .dataframe thead th {\n",
              "        text-align: right;\n",
              "    }\n",
              "</style>\n",
              "<table border=\"1\" class=\"dataframe\">\n",
              "  <thead>\n",
              "    <tr style=\"text-align: right;\">\n",
              "      <th></th>\n",
              "      <th>서비스업</th>\n",
              "      <th>제조업</th>\n",
              "    </tr>\n",
              "    <tr>\n",
              "      <th>구분</th>\n",
              "      <th></th>\n",
              "      <th></th>\n",
              "    </tr>\n",
              "  </thead>\n",
              "  <tbody>\n",
              "    <tr>\n",
              "      <th>강원</th>\n",
              "      <td>6203749</td>\n",
              "      <td>6002286</td>\n",
              "    </tr>\n",
              "    <tr>\n",
              "      <th>경남</th>\n",
              "      <td>8667737</td>\n",
              "      <td>18053778</td>\n",
              "    </tr>\n",
              "    <tr>\n",
              "      <th>경북</th>\n",
              "      <td>8487402</td>\n",
              "      <td>30115601</td>\n",
              "    </tr>\n",
              "    <tr>\n",
              "      <th>광주</th>\n",
              "      <td>3174973</td>\n",
              "      <td>2910768</td>\n",
              "    </tr>\n",
              "    <tr>\n",
              "      <th>대구</th>\n",
              "      <td>5470438</td>\n",
              "      <td>5862633</td>\n",
              "    </tr>\n",
              "    <tr>\n",
              "      <th>대전</th>\n",
              "      <td>3955921</td>\n",
              "      <td>2608343</td>\n",
              "    </tr>\n",
              "    <tr>\n",
              "      <th>부산</th>\n",
              "      <td>7582169</td>\n",
              "      <td>7512588</td>\n",
              "    </tr>\n",
              "    <tr>\n",
              "      <th>세종</th>\n",
              "      <td>645424</td>\n",
              "      <td>1502922</td>\n",
              "    </tr>\n",
              "    <tr>\n",
              "      <th>울산</th>\n",
              "      <td>3649386</td>\n",
              "      <td>25883132</td>\n",
              "    </tr>\n",
              "    <tr>\n",
              "      <th>인천</th>\n",
              "      <td>7154416</td>\n",
              "      <td>12367816</td>\n",
              "    </tr>\n",
              "    <tr>\n",
              "      <th>전남</th>\n",
              "      <td>5690659</td>\n",
              "      <td>21453926</td>\n",
              "    </tr>\n",
              "    <tr>\n",
              "      <th>전북</th>\n",
              "      <td>4910318</td>\n",
              "      <td>12965875</td>\n",
              "    </tr>\n",
              "    <tr>\n",
              "      <th>제주</th>\n",
              "      <td>2308732</td>\n",
              "      <td>241537</td>\n",
              "    </tr>\n",
              "    <tr>\n",
              "      <th>충남</th>\n",
              "      <td>7164439</td>\n",
              "      <td>37057955</td>\n",
              "    </tr>\n",
              "    <tr>\n",
              "      <th>충북</th>\n",
              "      <td>4804638</td>\n",
              "      <td>15883448</td>\n",
              "    </tr>\n",
              "  </tbody>\n",
              "</table>\n",
              "</div>"
            ],
            "text/plain": [
              "       서비스업       제조업\n",
              "구분                   \n",
              "강원  6203749   6002286\n",
              "경남  8667737  18053778\n",
              "경북  8487402  30115601\n",
              "광주  3174973   2910768\n",
              "대구  5470438   5862633\n",
              "대전  3955921   2608343\n",
              "부산  7582169   7512588\n",
              "세종   645424   1502922\n",
              "울산  3649386  25883132\n",
              "인천  7154416  12367816\n",
              "전남  5690659  21453926\n",
              "전북  4910318  12965875\n",
              "제주  2308732    241537\n",
              "충남  7164439  37057955\n",
              "충북  4804638  15883448"
            ]
          },
          "metadata": {
            "tags": []
          },
          "execution_count": 161
        }
      ]
    },
    {
      "metadata": {
        "id": "pGIj8apIuy_Z",
        "colab_type": "code",
        "outputId": "d6e1c881-6a07-45d9-dfeb-1ec3d0b15fc7",
        "colab": {}
      },
      "cell_type": "code",
      "source": [
        "plt.figure(figsize=(8,8))\n",
        "plt.scatter(power['서비스업'], power['제조업'],c='k',marker='o')\n",
        "plt.xlabel('서비스업')\n",
        "plt.ylabel('제조업')\n",
        "\n",
        "for n in range(power.shape[0]):\n",
        "    plt.text(power['서비스업'][n]*1.03, power['제조업'][n]*0.98, power.index[n])"
      ],
      "execution_count": 0,
      "outputs": [
        {
          "output_type": "display_data",
          "data": {
            "image/png": "[encoded data removed]",
            "text/plain": [
              "<Figure size 576x576 with 1 Axes>"
            ]
          },
          "metadata": {
            "tags": [],
            "needs_background": "light"
          }
        }
      ]
    }
  ]
}